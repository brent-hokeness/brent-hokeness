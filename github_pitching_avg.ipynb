{
 "cells": [
  {
   "cell_type": "code",
   "execution_count": null,
   "metadata": {},
   "outputs": [],
   "source": [
    "import os\n",
    "import pandas as pd"
   ]
  },
  {
   "cell_type": "code",
   "execution_count": null,
   "metadata": {},
   "outputs": [],
   "source": [
    "# Input Excel file\n",
    "input_file = '/Users/username/Desktop/folder/filename.xlsx'\n",
    "\n",
    "# Output Excel file to store the averages\n",
    "output_file = '/Users/username/Desktop/folder/filename.xlsx'"
   ]
  },
  {
   "cell_type": "code",
   "execution_count": null,
   "metadata": {},
   "outputs": [],
   "source": [
    "# Read all sheets from the input Excel file into a dictionary\n",
    "sheets = pd.read_excel(input_file, sheet_name=None)\n",
    "\n",
    "# Initialize a DataFrame to store the averages\n",
    "averages_df = pd.DataFrame()\n",
    "\n",
    "# Initialize a flag to add headers only once\n",
    "headers_added = False"
   ]
  },
  {
   "cell_type": "code",
   "execution_count": null,
   "metadata": {},
   "outputs": [],
   "source": [
    "# Iterate through the sheets and calculate averages while excluding non-numeric columns\n",
    "for sheet_name, sheet_data in sheets.items():\n",
    "    numeric_columns = sheet_data.select_dtypes(include=[pd.np.number])\n",
    "    if headers_added:\n",
    "        averages_df += numeric_columns\n",
    "    else:\n",
    "        averages_df = numeric_columns.copy()\n",
    "        headers_added = True\n"
   ]
  },
  {
   "cell_type": "code",
   "execution_count": null,
   "metadata": {},
   "outputs": [],
   "source": [
    "# Calculate the average by dividing by the number of sheets\n",
    "averages_df = averages_df / len(sheets)\n",
    "\n",
    "# Save the averages DataFrame to the output Excel file\n",
    "averages_df.to_excel(output_file, index=False)\n",
    "\n",
    "print(\"Averages calculated and saved to\", output_file)"
   ]
  }
 ],
 "metadata": {
  "language_info": {
   "name": "python"
  },
  "orig_nbformat": 4
 },
 "nbformat": 4,
 "nbformat_minor": 2
}
