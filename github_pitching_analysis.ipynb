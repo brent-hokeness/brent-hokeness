{
 "cells": [
  {
   "cell_type": "code",
   "execution_count": 8,
   "metadata": {},
   "outputs": [],
   "source": [
    "import os\n",
    "import pandas as pd\n",
    "import pandas as pd\n",
    "import numpy as np"
   ]
  },
  {
   "cell_type": "code",
   "execution_count": null,
   "metadata": {},
   "outputs": [],
   "source": [
    "# Function to process a single trial and return the event, max, and min values\n",
    "def process_trial(filename):\n",
    "    # Read the Excel file\n",
    "    data = pd.read_excel(filename, skiprows=8)\n",
    "\n",
    "    # Identify events (assuming 'VEM' indicates events)\n",
    "    event_indexes = data[data['VEM'] == 1].index\n",
    "\n",
    "    # Create the 'phase' column and set values between 'VEM' events\n",
    "    for i in range(1, len(event_indexes)):\n",
    "        start = event_indexes[i - 1]\n",
    "        end = event_indexes[i]\n",
    "        data.loc[start:end, 'phase'] = i\n",
    "        # Create an empty DataFrame to store the event, max, and min values\n",
    "    event_values = pd.DataFrame()\n",
    "\n",
    "    # Function to find maximum values for each phase\n",
    "    def find_max_values(df, phase_col, phase_value):\n",
    "        phase_data = df[df[phase_col] == phase_value]\n",
    "        max_values = phase_data.iloc[:, 1:].max()\n",
    "        return max_values\n",
    "\n",
    "    # Function to find minimum values for each phase\n",
    "    def find_min_values(df, phase_col, phase_value):\n",
    "        phase_data = df[df[phase_col] == phase_value]\n",
    "        min_values = phase_data.iloc[:, 1:].min()\n",
    "        return min_values\n",
    "# Iterate through events (where 'VEM' equals 1) and add values to the event_values DataFrame\n",
    "    for i, event_index in enumerate(event_indexes):\n",
    "        event_data = data.iloc[event_index]\n",
    "        event_values = pd.concat([event_values, event_data], ignore_index=True)\n",
    "\n",
    "    # Find the maximum and minimum values between events and add them to the event_values DataFrame\n",
    "    maximum_values_between_events = {}\n",
    "    minimum_values_between_events = {}\n",
    "    for i in range(1, len(event_indexes)):\n",
    "        start = event_indexes[i - 1]\n",
    "        end = event_indexes[i]\n",
    "        values_max = data.iloc[start + 1 : end][data.columns[2:]].max()\n",
    "        values_min = data.iloc[start + 1 : end][data.columns[2:]].min()\n",
    "        maximum_values_between_events[f'Between Events {i}'] = values_max\n",
    "        minimum_values_between_events[f'Between Events {i}'] = values_min\n",
    "\n",
    "    return event_values, maximum_values_between_events, minimum_values_between_events"
   ]
  },
  {
   "cell_type": "code",
   "execution_count": null,
   "metadata": {},
   "outputs": [],
   "source": [
    "# Directory path where your trial files are located\n",
    "directory = '/Users/username/Desktop/folder/subfolder'\n",
    "\n",
    "# Get a list of filenames in the directory\n",
    "filenames = [os.path.join(directory, filename) for filename in os.listdir(directory) if filename.endswith('.xls')]\n",
    "\n",
    "# Create a single Excel file to store all data\n",
    "output_file = '/Users/username/Desktop/filename.xlsx'\n",
    "\n",
    "with pd.ExcelWriter(output_file, engine='openpyxl') as writer:\n",
    "    for filename in filenames:\n",
    "        event_values, max_values_between_events, min_values_between_events = process_trial(filename)\n",
    "\n",
    "        # Save the event values, maximum values, and minimum values in the same sheet\n",
    "        max_min_df = pd.concat([event_values, pd.DataFrame(max_values_between_events).T, pd.DataFrame(min_values_between_events).T], ignore_index=True)\n",
    "        max_min_df.to_excel(writer, sheet_name=f'{os.path.basename(filename)}', index=False)"
   ]
  }
 ],
 "metadata": {
  "kernelspec": {
   "display_name": "Python 3",
   "language": "python",
   "name": "python3"
  },
  "language_info": {
   "codemirror_mode": {
    "name": "ipython",
    "version": 3
   },
   "file_extension": ".py",
   "mimetype": "text/x-python",
   "name": "python",
   "nbconvert_exporter": "python",
   "pygments_lexer": "ipython3",
   "version": "3.11.1"
  },
  "orig_nbformat": 4,
  "vscode": {
   "interpreter": {
    "hash": "aee8b7b246df8f9039afb4144a1f6fd8d2ca17a180786b69acc140d282b71a49"
   }
  }
 },
 "nbformat": 4,
 "nbformat_minor": 2
}
