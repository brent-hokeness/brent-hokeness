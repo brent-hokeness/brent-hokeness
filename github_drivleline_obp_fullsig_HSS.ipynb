{
 "cells": [
  {
   "cell_type": "code",
   "execution_count": null,
   "metadata": {},
   "outputs": [],
   "source": [
    "import pandas as pd\n",
    "import numpy as np\n",
    "import matplotlib.pyplot as plt\n",
    "import seaborn as sb"
   ]
  },
  {
   "cell_type": "code",
   "execution_count": null,
   "metadata": {},
   "outputs": [],
   "source": [
    "#read poi file\n",
    "pitch_velo = pd.read_csv('pitching_poi_metrics.csv')"
   ]
  },
  {
   "cell_type": "code",
   "execution_count": null,
   "metadata": {},
   "outputs": [],
   "source": [
    "# seperates 'good' pitches from 'bad' pitches\n",
    "pitch_velo['mph_bin'] = pd.qcut(pitch_velo['pitch_speed_mph'], \n",
    "                                q=2, labels = ['bad','good'])"
   ]
  },
  {
   "cell_type": "code",
   "execution_count": null,
   "metadata": {},
   "outputs": [],
   "source": [
    "# pulls out good pitches to see if they seperate correctly\n",
    "good_mph = pitch_velo.groupby(pitch_velo['mph_bin'])\n",
    "print(good_mph)"
   ]
  },
  {
   "cell_type": "code",
   "execution_count": null,
   "metadata": {},
   "outputs": [],
   "source": [
    "# finds good pitches\n",
    "good_mph_data = pitch_velo[pitch_velo['mph_bin'] == 'good']\n",
    "\n",
    "# finds 'bad' pitches\n",
    "bad_mph_data = pitch_velo[pitch_velo['mph_bin'] == 'bad']\n",
    "\n",
    "# Specify the file paths for the Excel files\n",
    "good_mph_file_path = 'good_mph_data.xlsx'\n",
    "bad_mph_file_path = 'bad_mph_data.xlsx'\n",
    "\n",
    "# Write the filtered data to separate Excel files\n",
    "good_mph_data.to_excel(good_mph_file_path, index=False)\n",
    "bad_mph_data.to_excel(bad_mph_file_path, index=False)"
   ]
  },
  {
   "cell_type": "code",
   "execution_count": null,
   "metadata": {},
   "outputs": [],
   "source": [
    "# reads good and bad files\n",
    "good_poi=pd.read_excel('good_mph_data.xlsx')\n",
    "bad_poi=pd.read_excel('bad_mph_data.xlsx')"
   ]
  },
  {
   "cell_type": "code",
   "execution_count": null,
   "metadata": {},
   "outputs": [],
   "source": [
    "# reads the full sig data file from driveline\n",
    "JointA = pd.read_csv('joint_angles.csv')"
   ]
  },
  {
   "cell_type": "code",
   "execution_count": null,
   "metadata": {},
   "outputs": [],
   "source": [
    "# Find common pitches from good velo to full sig data\n",
    "common_users = set(JointA['session_pitch']).intersection(good_poi['session_pitch'])\n",
    "\n",
    "# Add New Column\n",
    "JointA['appears_in_pitch_velo'] = np.nan\n",
    "\n",
    "# Populate the New Column, yes means good velo, no means 'bad'\n",
    "for index, row in JointA.iterrows():\n",
    "    user_value = row['session_pitch']\n",
    "    if user_value in common_users:\n",
    "        JointA.at[index, 'appears_in_pitch_velo'] = 'yes'\n",
    "    else:\n",
    "        JointA.at[index, 'appears_in_pitch_velo'] = 'no'\n",
    "\n",
    "# Save the Updated Data\n",
    "\n",
    "JointA.to_csv('fullsig_with_appearance.csv', index=False)"
   ]
  },
  {
   "cell_type": "code",
   "execution_count": null,
   "metadata": {},
   "outputs": [],
   "source": [
    "# reads new file\n",
    "fullsig_wa = pd.read_csv('fullsig_with_appearance.csv')\n",
    "\n",
    "#finds length of each pitch\n",
    "min_time_per_pitcher = fullsig_wa.groupby('session_pitch')['time'].min()\n",
    "max_time_per_pitcher = fullsig_wa.groupby('session_pitch')['time'].max()\n",
    "\n",
    "# Calculate Time Duration for Each Pitcher\n",
    "time_duration_per_pitcher = max_time_per_pitcher - min_time_per_pitcher\n",
    "\n",
    "# Calculate the Percentage of Time for Each Data Point and Round to the Nearest Tenth\n",
    "def calculate_percentage_of_time(row):\n",
    "    pitcher_id = row['session_pitch']\n",
    "    time_value = row['time']\n",
    "    percentage = (time_value - min_time_per_pitcher[pitcher_id]) / time_duration_per_pitcher[pitcher_id]\n",
    "    return round(percentage, 2) \n",
    "\n",
    "# adds column with the time percentage for each frame\n",
    "fullsig_wa['time_percentage'] = fullsig_wa.apply(calculate_percentage_of_time, axis=1)\n",
    "\n",
    "# Print or Save the DataFrame with the New 'time_percentage' Column\n",
    "print(fullsig_wa)\n",
    "\n",
    "# If you want to save the DataFrame with the new column to a CSV file\n",
    "fullsig_wa.to_csv('updated_pitchers_data.csv', index=False)"
   ]
  },
  {
   "cell_type": "code",
   "execution_count": null,
   "metadata": {},
   "outputs": [],
   "source": [
    "average_good_pitch = fullsig_wa[fullsig_wa['appears_in_pitch_velo'] == 'yes'].groupby('time_percentage')['torso_pelvis_angle_z'].mean()\n",
    "average_bad_pitch = fullsig_wa[fullsig_wa['appears_in_pitch_velo'] == 'no'].groupby('time_percentage')['torso_pelvis_angle_z'].mean()\n",
    "\n",
    "# Plot the Graph\n",
    "plt.figure(figsize=(8, 6))\n",
    "plt.plot(average_good_pitch.index, average_good_pitch, label='Average of Good Pitches', color='green')\n",
    "plt.plot(average_bad_pitch.index, average_bad_pitch, label='Average of Bad Pitches', color='red')\n",
    "\n",
    "plt.xlabel('Time Percentage')\n",
    "plt.ylabel('Average Torso Pelvis Angle')\n",
    "plt.title('Average Torso Pelvis Angle in Pitching Delivery')\n",
    "plt.legend()\n",
    "plt.grid(True)\n",
    "plt.show()"
   ]
  }
 ],
 "metadata": {
  "kernelspec": {
   "display_name": "Python 3",
   "language": "python",
   "name": "python3"
  },
  "language_info": {
   "codemirror_mode": {
    "name": "ipython",
    "version": 3
   },
   "file_extension": ".py",
   "mimetype": "text/x-python",
   "name": "python",
   "nbconvert_exporter": "python",
   "pygments_lexer": "ipython3",
   "version": "3.11.1"
  },
  "orig_nbformat": 4,
  "vscode": {
   "interpreter": {
    "hash": "aee8b7b246df8f9039afb4144a1f6fd8d2ca17a180786b69acc140d282b71a49"
   }
  }
 },
 "nbformat": 4,
 "nbformat_minor": 2
}
